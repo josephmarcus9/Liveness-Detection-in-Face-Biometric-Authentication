{
  "nbformat": 4,
  "nbformat_minor": 0,
  "metadata": {
    "accelerator": "GPU",
    "colab": {
      "name": "Data_3.ipynb",
      "provenance": [],
      "collapsed_sections": [],
      "mount_file_id": "1W61F_L6N99nwW4x4DEZfLOPfTGkbNBHD",
      "authorship_tag": "ABX9TyPpQQ2opOqSJ86w2D9HZOht",
      "include_colab_link": true
    },
    "kernelspec": {
      "display_name": "Python 3",
      "name": "python3"
    },
    "language_info": {
      "name": "python"
    }
  },
  "cells": [
    {
      "cell_type": "markdown",
      "metadata": {
        "id": "view-in-github",
        "colab_type": "text"
      },
      "source": [
        "<a href=\"https://colab.research.google.com/github/josephmarcus9/Liveness-Detection-in-Face-Biometric-Authentication/blob/main/Data_3.ipynb\" target=\"_parent\"><img src=\"https://colab.research.google.com/assets/colab-badge.svg\" alt=\"Open In Colab\"/></a>"
      ]
    },
    {
      "cell_type": "code",
      "metadata": {
        "id": "6Y5vX9altg7p"
      },
      "source": [
        "from torchvision import transforms, utils\n",
        "import torch\n",
        "from torch import nn\n",
        "from torch.nn import functional as F\n",
        "\n",
        "from PIL import Image\n",
        "import numpy as np\n",
        "import os\n",
        "import itertools\n",
        "\n",
        "from sklearn.metrics import accuracy_score, confusion_matrix\n",
        "import sklearn.metrics as metrics\n",
        "import statistics \n",
        "import matplotlib.pyplot as plt\n",
        "from torchsummary import summary"
      ],
      "execution_count": null,
      "outputs": []
    },
    {
      "cell_type": "code",
      "metadata": {
        "colab": {
          "base_uri": "https://localhost:8080/"
        },
        "id": "mT8CqqHhuLtg",
        "outputId": "74754f1f-06d7-4e4f-ad65-b39258a71017"
      },
      "source": [
        "from google.colab import drive\n",
        "drive.mount('/content/drive')\n"
      ],
      "execution_count": null,
      "outputs": [
        {
          "output_type": "stream",
          "name": "stdout",
          "text": [
            "Mounted at /content/drive\n"
          ]
        }
      ]
    },
    {
      "cell_type": "code",
      "metadata": {
        "id": "4VA43fhrnYhI"
      },
      "source": [
        "class Data(torch.utils.data.Dataset):\n",
        "    def __init__(self,db_dir,sub_dir,is_train):\n",
        "        self.is_train = is_train\n",
        "        self.file_list,self.label = self.get_file_list(db_dir, sub_dir)\n",
        "        if self.is_train:\n",
        "            self.transforms = transforms.Compose([transforms.ToTensor()])\n",
        "        else:\n",
        "            self.transforms = transforms.Compose([transforms.ToTensor()])\n",
        "\n",
        "    def __getitem__(self, index):\n",
        "        img = self.transforms(Image.open(self.file_list[index]).convert('RGB'))\n",
        "\n",
        "        label = self.label[index]\n",
        "        return img,label\n",
        "\n",
        "    def __len__(self):\n",
        "        return len(self.file_list)\n",
        "\n",
        "    def get_file_list(self,db_dir, sub_dir):\n",
        "        file_list = []\n",
        "        label_list = []\n",
        "        # for file in itertools.islice(open(db_dir, \"r\"),0,len(db_dir)):\n",
        "        for file in open(db_dir, \"r\"):\n",
        "            file = file.replace(\"\\\\\", \"/\")\n",
        "            image_path = db_dir + '/' + file\n",
        "            path_1 = image_path.strip().split('/')  # strip the '\\n'\n",
        "            retain = path_1[:6]\n",
        "            retain.append(sub_dir)\n",
        "            rest = path_1[7:]\n",
        "            new_file = os.path.join('/', *(retain + rest))\n",
        "            path_2, file = os.path.split(new_file)\n",
        "            x = os.path.join(path_2, file)\n",
        "            file_list.append(x)\n",
        "            if sub_dir=='ClientRaw':\n",
        "                label = 0\n",
        "            else:\n",
        "                label = 1\n",
        "            label_list.append(label)\n",
        "        return file_list,label_list"
      ],
      "execution_count": null,
      "outputs": []
    },
    {
      "cell_type": "code",
      "metadata": {
        "colab": {
          "base_uri": "https://localhost:8080/"
        },
        "id": "eBX0I661ovge",
        "outputId": "67a5538b-cdac-409f-b052-6a6ce16078cc"
      },
      "source": [
        "#Testing functions works above \n",
        "dir = \"/content/drive/MyDrive/thesis/NUAA_cropped_2/client_test_raw.txt\"\n",
        "sub = 'ClientRaw'\n",
        "data = Data(dir,sub, True)\n",
        "file_list_out=data.get_file_list(dir,sub)[0][:10]\n",
        "label_list_out=data.get_file_list(dir,sub)[1][:3]\n",
        "print(file_list_out)"
      ],
      "execution_count": null,
      "outputs": [
        {
          "output_type": "stream",
          "name": "stdout",
          "text": [
            "['/content/drive/MyDrive/thesis/NUAA_cropped_2/ClientRaw/0010/0010_01_05_03_115.jpg', '/content/drive/MyDrive/thesis/NUAA_cropped_2/ClientRaw/0010/0010_01_05_03_121.jpg', '/content/drive/MyDrive/thesis/NUAA_cropped_2/ClientRaw/0010/0010_01_05_03_125.jpg', '/content/drive/MyDrive/thesis/NUAA_cropped_2/ClientRaw/0010/0010_01_05_03_129.jpg', '/content/drive/MyDrive/thesis/NUAA_cropped_2/ClientRaw/0010/0010_01_05_03_131.jpg', '/content/drive/MyDrive/thesis/NUAA_cropped_2/ClientRaw/0010/0010_01_05_03_132.jpg', '/content/drive/MyDrive/thesis/NUAA_cropped_2/ClientRaw/0010/0010_01_05_03_133.jpg', '/content/drive/MyDrive/thesis/NUAA_cropped_2/ClientRaw/0010/0010_01_05_03_135.jpg', '/content/drive/MyDrive/thesis/NUAA_cropped_2/ClientRaw/0010/0010_01_05_03_136.jpg', '/content/drive/MyDrive/thesis/NUAA_cropped_2/ClientRaw/0010/0010_01_05_03_140.jpg']\n"
          ]
        }
      ]
    },
    {
      "cell_type": "code",
      "metadata": {
        "id": "gvzR0Ezy5_qO"
      },
      "source": [
        "class Net(nn.Module):\n",
        "    def __init__(self,num_classes):\n",
        "        super().__init__()\n",
        "        self.num_classes = num_classes\n",
        "        self.relu = nn.ReLU()\n",
        "        self.lrn = nn.LocalResponseNorm(5, 0.0001, 0.75, 2)\n",
        "        self.pool = nn.MaxPool2d(kernel_size=2, stride=2)\n",
        "\n",
        "        # Conv1\n",
        "        self.conv1 = nn.Conv2d(in_channels=3,out_channels=18,kernel_size=5,stride=1)\n",
        "\n",
        "        # Conv2\n",
        "        self.conv2 = nn.Conv2d(18,18,5,stride=1)\n",
        "\n",
        "        # Conv3\n",
        "        self.conv3 = nn.Conv2d(18,18,4, stride=1)\n",
        "\n",
        "        # Conv4\n",
        "        self.conv4 = nn.Conv2d(18,36, 3, stride=1)\n",
        "\n",
        "        # fc1\n",
        "        self.fc1 = nn.Linear(in_features=36 *8*8,out_features=512)\n",
        "\n",
        "        # fc2\n",
        "        self.fc2 = nn.Linear(512,120)\n",
        "\n",
        "        #fc3\n",
        "        self.fc3 = nn.Linear(120,self.num_classes)\n",
        "\n",
        "\n",
        "    def forward(self, x):\n",
        "        x = self.conv1(x)\n",
        "        x = self.relu(x)\n",
        "        x = self.lrn(x)\n",
        "        x = self.pool(x)\n",
        "\n",
        "        x = self.conv2(x)\n",
        "        x = self.relu(x)\n",
        "        x = self.lrn(x)\n",
        "        x = self.pool(x)\n",
        "\n",
        "        x = self.conv3(x)\n",
        "        x = self.relu(x)\n",
        "\n",
        "        x = self.conv4(x)\n",
        "        x = self.relu(x)\n",
        "\n",
        "        # x = self.conv5(x)\n",
        "        # x = self.relu(x)\n",
        "        # x = self.pool(x)\n",
        "\n",
        "        x = x.view(x.size(0), -1) # Flatten\n",
        "        \n",
        "\n",
        "        x = self.fc1(x)\n",
        "        x = self.relu(x)\n",
        "        x = F.dropout(x, p=0.5, training=self.training)\n",
        "\n",
        "        x = self.fc2(x)\n",
        "        x = self.relu(x)\n",
        "        x = F.dropout(x, p=0.5, training=self.training)\n",
        "\n",
        "        x = self.fc3(x)\n",
        "        return x"
      ],
      "execution_count": null,
      "outputs": []
    },
    {
      "cell_type": "code",
      "metadata": {
        "colab": {
          "base_uri": "https://localhost:8080/"
        },
        "id": "o5MG5FuPukzC",
        "outputId": "de586562-753e-47e4-a898-d9d4cbaddfce"
      },
      "source": [
        "use_cuda = torch.cuda.is_available()\n",
        "device = torch.device(\"cuda\" if use_cuda else \"cpu\")   # use CPU or GPU\n",
        "learning_rate = 0.01\n",
        "print(device)"
      ],
      "execution_count": null,
      "outputs": [
        {
          "output_type": "stream",
          "name": "stdout",
          "text": [
            "cuda\n"
          ]
        }
      ]
    },
    {
      "cell_type": "code",
      "metadata": {
        "colab": {
          "base_uri": "https://localhost:8080/",
          "height": 35
        },
        "id": "1qY4xBpj1jBw",
        "outputId": "075c5bda-6f2f-4f5f-fead-3302d0a43cd4"
      },
      "source": [
        "import tensorflow as tf\n",
        "tf.test.gpu_device_name()"
      ],
      "execution_count": null,
      "outputs": [
        {
          "output_type": "execute_result",
          "data": {
            "application/vnd.google.colaboratory.intrinsic+json": {
              "type": "string"
            },
            "text/plain": [
              "'/device:GPU:0'"
            ]
          },
          "metadata": {},
          "execution_count": 7
        }
      ]
    },
    {
      "cell_type": "code",
      "metadata": {
        "id": "BqxeFaodue7Y"
      },
      "source": [
        "train_dir_client = \"/content/drive/MyDrive/thesis/NUAA_cropped_2/client_test_raw.txt\"\n",
        "sub_dir_client = 'ClientRaw'\n",
        "train_data_set_client = Data(train_dir_client, sub_dir_client, True)\n",
        "\n",
        "# Train Imposter\n",
        "train_dir_imposter = \"/content/drive/MyDrive/thesis/NUAA_cropped_2/imposter_test_raw.txt\"\n",
        "sub_dir_imposter = 'ImposterRaw'\n",
        "train_data_set_imposter = Data(train_dir_imposter, sub_dir_imposter, True)\n",
        "\n",
        "# Train combined\n",
        "train_data_set = train_data_set_client + train_data_set_imposter\n",
        "\n",
        "# Test client\n",
        "test_dir_client = \"/content/drive/MyDrive/thesis/NUAA_cropped_2/client_train_raw.txt\"\n",
        "test_data_set_client = Data(test_dir_client, sub_dir_client, False)\n",
        "\n",
        "# Test Imposter\n",
        "test_dir_imposter = \"/content/drive/MyDrive/thesis/NUAA_cropped_2/imposter_train_raw.txt\"\n",
        "test_data_set_imposter = Data(test_dir_imposter, sub_dir_imposter, False)\n",
        "\n",
        "# Test combined\n",
        "test_data_set = test_data_set_client + test_data_set_imposter"
      ],
      "execution_count": null,
      "outputs": []
    },
    {
      "cell_type": "code",
      "metadata": {
        "id": "hTROAhN96ABS"
      },
      "source": [
        "batch_size_value=5\n",
        "train_data_loader = torch.utils.data.DataLoader(train_data_set, shuffle=True,batch_size=batch_size_value, num_workers=2)\n",
        "test_data_loader =torch.utils.data.DataLoader(test_data_set,shuffle=True, batch_size=batch_size_value, num_workers=2)"
      ],
      "execution_count": null,
      "outputs": []
    },
    {
      "cell_type": "code",
      "metadata": {
        "id": "7T3GsKeP6AHJ"
      },
      "source": [
        "def train(net,dataloader,optimizer,epoch):\n",
        "  net.train()\n",
        "  train_losses=[]\n",
        "  for e in range(epoch):\n",
        "      running_loss=0\n",
        "      for batch_idx, (X, y) in enumerate(dataloader):\n",
        "          X, y = X.to(device), y.to(device)\n",
        "          optimizer.zero_grad()\n",
        "          output = net(X)\n",
        "          loss = F.cross_entropy(output, y)\n",
        "          loss.backward()\n",
        "          optimizer.step()\n",
        "          running_loss += loss.item()\n",
        "          batch_nos=200\n",
        "          if batch_idx%batch_nos==199:\n",
        "            print('epoch: ',e+1,'batch: ',batch_idx+1,\"running_loss: \",running_loss/batch_nos ) # print every 100 mini-batches\n",
        "            train_losses.append(running_loss/batch_nos)\n",
        "            running_loss=0\n",
        "      # train_loss=running_loss/len(dataloader)\n",
        "      # print('epoch: ',e,'train_loss',train_loss)\n",
        "  return train_losses"
      ],
      "execution_count": null,
      "outputs": []
    },
    {
      "cell_type": "code",
      "metadata": {
        "colab": {
          "base_uri": "https://localhost:8080/"
        },
        "id": "51cAFvvK6AJs",
        "outputId": "837086f8-1f73-44d0-b58c-2c0574e1f7de"
      },
      "source": [
        "epoch_no=2\n",
        "net = Net(2).to(device)\n",
        "optimizer = torch.optim.SGD(list(net.parameters()), lr=0.01) #could increase\n",
        "x=train(net,train_data_loader,optimizer,epoch_no)"
      ],
      "execution_count": null,
      "outputs": [
        {
          "output_type": "stream",
          "name": "stderr",
          "text": [
            "/usr/local/lib/python3.7/dist-packages/torch/nn/functional.py:718: UserWarning: Named tensors and all their associated APIs are an experimental feature and subject to change. Please do not use them for anything important until they are released as stable. (Triggered internally at  /pytorch/c10/core/TensorImpl.h:1156.)\n",
            "  return torch.max_pool2d(input, kernel_size, stride, padding, dilation, ceil_mode)\n"
          ]
        },
        {
          "output_type": "stream",
          "name": "stdout",
          "text": [
            "epoch:  1 batch:  200 running_loss:  0.6736149424314499\n",
            "epoch:  1 batch:  400 running_loss:  0.6474957099556923\n",
            "epoch:  1 batch:  600 running_loss:  0.651401419788599\n",
            "epoch:  1 batch:  800 running_loss:  0.6521847571432591\n",
            "epoch:  1 batch:  1000 running_loss:  0.6654390993714333\n",
            "epoch:  1 batch:  1200 running_loss:  0.6669027541577816\n",
            "epoch:  1 batch:  1400 running_loss:  0.6579850347340107\n",
            "epoch:  1 batch:  1600 running_loss:  0.6522603678703308\n",
            "epoch:  1 batch:  1800 running_loss:  0.6583060854673386\n",
            "epoch:  2 batch:  200 running_loss:  0.6490180543065072\n",
            "epoch:  2 batch:  400 running_loss:  0.6017071764171124\n",
            "epoch:  2 batch:  600 running_loss:  0.4871781184896827\n",
            "epoch:  2 batch:  800 running_loss:  0.30993524548597634\n",
            "epoch:  2 batch:  1000 running_loss:  0.2101951492181979\n",
            "epoch:  2 batch:  1200 running_loss:  0.3642804957332555\n",
            "epoch:  2 batch:  1400 running_loss:  0.2043309348647017\n",
            "epoch:  2 batch:  1600 running_loss:  0.12664775595403627\n",
            "epoch:  2 batch:  1800 running_loss:  0.13020919599330227\n"
          ]
        }
      ]
    },
    {
      "cell_type": "code",
      "metadata": {
        "colab": {
          "base_uri": "https://localhost:8080/"
        },
        "id": "DD_6e6KK6i9z",
        "outputId": "1fbde56b-f559-4997-a5f8-c4f3d55b65e1"
      },
      "source": [
        "len_train_set=len(train_data_loader)*batch_size_value;int(len(train_data_loader)/200)"
      ],
      "execution_count": null,
      "outputs": [
        {
          "output_type": "execute_result",
          "data": {
            "text/plain": [
              "9"
            ]
          },
          "metadata": {},
          "execution_count": 12
        }
      ]
    },
    {
      "cell_type": "code",
      "metadata": {
        "colab": {
          "base_uri": "https://localhost:8080/"
        },
        "id": "T7GOUrzw5wTy",
        "outputId": "ce0d77dd-64ff-4458-e62f-06278e4e6ef7"
      },
      "source": [
        "epoch_losses=x[int(len(train_data_loader)/200)-1:len(x):int(len(train_data_loader)/200)]\n",
        "epoch_losses.insert(0,x[0])\n",
        "epoch_losses"
      ],
      "execution_count": null,
      "outputs": [
        {
          "output_type": "execute_result",
          "data": {
            "text/plain": [
              "[0.6736149424314499, 0.6583060854673386, 0.13020919599330227]"
            ]
          },
          "metadata": {},
          "execution_count": 13
        }
      ]
    },
    {
      "cell_type": "code",
      "metadata": {
        "colab": {
          "base_uri": "https://localhost:8080/",
          "height": 295
        },
        "id": "p1nfP-uJ5sLh",
        "outputId": "881297cf-6eeb-419c-ab62-542a00506806"
      },
      "source": [
        "plt.plot(epoch_losses,'-o')\n",
        "plt.xlabel('epoch')\n",
        "plt.ylabel('losses')\n",
        "plt.legend(['Train','Valid'])\n",
        "plt.title('Train vs Valid Losses')\n",
        "plt.savefig(\"/content/drive/My Drive/thesis/Train vs Valid Losses.png\")\n",
        "#plt.show()\n",
        "\n"
      ],
      "execution_count": null,
      "outputs": [
        {
          "output_type": "display_data",
          "data": {
            "image/png": "[encoded data removed]",
            "text/plain": [
              "<Figure size 432x288 with 1 Axes>"
            ]
          },
          "metadata": {
            "needs_background": "light"
          }
        }
      ]
    },
    {
      "cell_type": "code",
      "metadata": {
        "id": "KW6A9DdRkgvC"
      },
      "source": [
        "PATH = '/content/drive/MyDrive/thesis/cifar_net.pth' #Save \n",
        "torch.save(net.state_dict(), PATH)"
      ],
      "execution_count": null,
      "outputs": []
    },
    {
      "cell_type": "code",
      "metadata": {
        "id": "olnrEk79m1B5"
      },
      "source": [
        "def metric(predict_proba, labels2):\n",
        "    predict = np.argmax(predict_proba, axis=1)\n",
        "    labels2 = np.asarray(labels2)\n",
        "    con_matrix = confusion_matrix(labels2, predict)\n",
        "    TP = con_matrix[0][0]\n",
        "    FN = con_matrix[0][1]\n",
        "    FP = con_matrix[1][0]\n",
        "    TN = con_matrix[1][1]\n",
        "\n",
        "    print(\"True Positive-->The classifier model predicted \" + str(\n",
        "        TP) + \" real(positive) samples as real(Positive)\")  # reals correctly predicted\n",
        "    print(\"False Negative-->The classifier model predicted \" + str(\n",
        "        FN) + \" real(Positive) samples as spoof(Negative)\")  # real predicted as spoof\n",
        "    print(\"False Positive-->The classifier model predicted \" + str(\n",
        "        FP) + \" spoof(Negative) samples as real(Positive)\")  # Spoof predicted as real\n",
        "    print(\"True Negative-->The classifier model predicted \" + str(\n",
        "        TN) + \" spoof(Negative) samples as spoof(Negative)\")  # Spoofs correctly predicted\n",
        "\n",
        "    print(\"Precision of the Linear SVM:\"\n",
        "          , (TP / (TP + FP)))\n",
        "    print(\"Recall of the Linear SVM:\", (TP / (TP + FN)))\n",
        "    print(\"Accuracy of the Linear SVM:\", ((TP + TN) / (TP + TN + FP + FN)))\n",
        "\n",
        "    far = FP / (FP + TN)  # apcer\n",
        "    frr = FN / (TP + FN)  # bpcer\n",
        "    hter = (far + frr) / 2  # hter\n",
        "\n",
        "\n",
        "    # print(predict_proba[:5])\n",
        "    # print([i[1] for i in predict_proba[:5]])\n",
        "\n",
        "    new_predict_proba = [i[1] for i in predict_proba]\n",
        "    fpr, tpr, threshold = metrics.roc_curve(labels2, new_predict_proba, pos_label=1)\n",
        "    roc_auc = metrics.auc(fpr, tpr)\n",
        "    dist = abs((1 - fpr) - tpr)\n",
        "    eer = fpr[np.argmin(dist)]\n",
        "    plt.title('Receiver Operating Characteristic')\n",
        "    plt.plot(fpr, tpr, 'b', label='AUC = %0.2f' % roc_auc)\n",
        "    plt.legend(loc='lower right')\n",
        "    plt.plot([0, 1], [0, 1], 'r--')\n",
        "    plt.xlim([0, 1])\n",
        "    plt.ylim([0, 1])\n",
        "    plt.ylabel('True Positive Rate')\n",
        "    plt.xlabel('False Positive Rate')\n",
        "    plt.savefig(\"/content/drive/My Drive/thesis/roc.png\")\n",
        "    # plt.show()\n",
        "    return far, frr, hter, eer"
      ],
      "execution_count": null,
      "outputs": []
    },
    {
      "cell_type": "code",
      "metadata": {
        "id": "cfIzU0IXkwiX"
      },
      "source": [
        "def test(data_loader,net):\n",
        "  net.eval()\n",
        "  correct = 0\n",
        "  total = 0\n",
        "  running_loss=0\n",
        "  scores = []\n",
        "  all_y = []\n",
        "  # since we're not training, we don't need to calculate the gradients for our outputs\n",
        "\n",
        "  with torch.no_grad(): #Wont be calculating the gradients \n",
        "    for batch_idx, (X, y) in enumerate(data_loader):\n",
        "      X, y = X.to(device), y.to(device)\n",
        "      outputs = net(X)\n",
        "      scores.extend(F.softmax(outputs).detach().cpu().numpy())\n",
        "      all_y.extend(y.cpu().numpy())\n",
        "      # the class with the highest energy is what we choose as prediction\n",
        "      _, predicted = torch.max(F.softmax(outputs).data, 1)\n",
        "\n",
        "      total += y.size(0)\n",
        "      correct += (predicted == y).sum().item()\n",
        "  return scores, all_y, total, correct\n"
      ],
      "execution_count": null,
      "outputs": []
    },
    {
      "cell_type": "code",
      "metadata": {
        "id": "55lBXYCNoRWw",
        "colab": {
          "base_uri": "https://localhost:8080/"
        },
        "outputId": "7957e440-960a-45d3-e9c6-9005c6e5f1dc"
      },
      "source": [
        "net = Net(2).to(device)\n",
        "net.load_state_dict(torch.load(PATH))\n",
        "testing=test(test_data_loader,net)\n"
      ],
      "execution_count": null,
      "outputs": [
        {
          "output_type": "stream",
          "name": "stderr",
          "text": [
            "/usr/local/lib/python3.7/dist-packages/ipykernel_launcher.py:14: UserWarning: Implicit dimension choice for softmax has been deprecated. Change the call to include dim=X as an argument.\n",
            "  \n",
            "/usr/local/lib/python3.7/dist-packages/ipykernel_launcher.py:17: UserWarning: Implicit dimension choice for softmax has been deprecated. Change the call to include dim=X as an argument.\n"
          ]
        }
      ]
    },
    {
      "cell_type": "code",
      "metadata": {
        "id": "psTXVc_uxN2Z"
      },
      "source": [
        ""
      ],
      "execution_count": null,
      "outputs": []
    },
    {
      "cell_type": "code",
      "metadata": {
        "colab": {
          "base_uri": "https://localhost:8080/",
          "height": 499
        },
        "id": "IbWpARgSfFo4",
        "outputId": "b4855396-22a7-4094-fcde-95a9243686e4"
      },
      "source": [
        "apcer, bpcer, hter, eer = metric(testing[0], testing[1])\n",
        "\n",
        "print('APCER:', apcer)\n",
        "print('BPCER:', bpcer)\n",
        "print('HTER:', hter)\n",
        "print('EER', eer)\n",
        "print('Total:', testing[2], 'Correct: ', testing[3])"
      ],
      "execution_count": null,
      "outputs": [
        {
          "output_type": "stream",
          "name": "stdout",
          "text": [
            "True Positive-->The classifier model predicted 746 real(positive) samples as real(Positive)\n",
            "False Negative-->The classifier model predicted 997 real(Positive) samples as spoof(Negative)\n",
            "False Positive-->The classifier model predicted 13 spoof(Negative) samples as real(Positive)\n",
            "True Negative-->The classifier model predicted 1735 spoof(Negative) samples as spoof(Negative)\n",
            "Precision of the Linear SVM: 0.9828722002635046\n",
            "Recall of the Linear SVM: 0.4279977051061388\n",
            "Accuracy of the Linear SVM: 0.7106846175880837\n",
            "APCER: 0.007437070938215103\n",
            "BPCER: 0.5720022948938611\n",
            "HTER: 0.2897196829160381\n",
            "EER 0.14457831325301204\n",
            "Total: 3491 Correct:  2481\n"
          ]
        },
        {
          "output_type": "display_data",
          "data": {
            "image/png": "[encoded data removed]",
            "text/plain": [
              "<Figure size 432x288 with 1 Axes>"
            ]
          },
          "metadata": {
            "needs_background": "light"
          }
        }
      ]
    },
    {
      "cell_type": "code",
      "metadata": {
        "id": "b152SRWgt3Er"
      },
      "source": [
        "#Their metric functions \n",
        "# EER(testing[1], testing[0])\n",
        "# HTER(testing[1], testing[0], 0.5)"
      ],
      "execution_count": null,
      "outputs": []
    },
    {
      "cell_type": "code",
      "metadata": {
        "id": "6SpM6kPKt3eh"
      },
      "source": [
        ""
      ],
      "execution_count": null,
      "outputs": []
    },
    {
      "cell_type": "code",
      "metadata": {
        "id": "i0xAvH9zCUNE"
      },
      "source": [
        "def imshow(img):\n",
        "    #img = img / 2 + 0.5     # unnormalize\n",
        "    npimg = img.numpy()\n",
        "    plt.imshow(np.transpose(npimg, (1, 2, 0)))\n",
        "    plt.show()\n",
        "\n",
        "classes=('real','spoof')"
      ],
      "execution_count": null,
      "outputs": []
    },
    {
      "cell_type": "code",
      "metadata": {
        "colab": {
          "base_uri": "https://localhost:8080/",
          "height": 137
        },
        "id": "egReB_Lf-UsR",
        "outputId": "a6e1a9fa-5ccc-4848-baa7-5867cdb8faae"
      },
      "source": [
        "dataiter = iter(test_data_loader)\n",
        "images, labels = dataiter.next()\n",
        "\n",
        "# print images\n",
        "imshow(utils.make_grid(images))\n",
        "print('GroundTruth: ', ' '.join('%5s' % classes[labels[j]] for j in range(5)))"
      ],
      "execution_count": null,
      "outputs": [
        {
          "output_type": "display_data",
          "data": {
            "image/png": "[encoded data removed]",
            "text/plain": [
              "<Figure size 432x288 with 1 Axes>"
            ]
          },
          "metadata": {
            "needs_background": "light"
          }
        },
        {
          "output_type": "stream",
          "name": "stdout",
          "text": [
            "GroundTruth:  spoof  real spoof  real  real\n"
          ]
        }
      ]
    },
    {
      "cell_type": "code",
      "metadata": {
        "id": "yA0ernFFDsRr"
      },
      "source": [
        "# outputs = net(images);outputs\n",
        "# _, predicted = torch.max(outputs.data, 1)\n",
        "\n",
        "\n",
        "\n",
        "net = Net(2).to(device)\n",
        "net.load_state_dict(torch.load(PATH))\n",
        "images=images.to(device)\n",
        "outputs = net(images)\n",
        "\n",
        "\n",
        "# scores.extend(F.softmax(outputs).detach().cpu().numpy())\n",
        "# all_y.extend(labels.cpu().numpy())\n",
        "# the class with the highest energy is what we choose as prediction\n",
        "_, predicted = torch.max(outputs.data, 1)"
      ],
      "execution_count": null,
      "outputs": []
    },
    {
      "cell_type": "code",
      "metadata": {
        "id": "0THVyfaD-1LJ",
        "colab": {
          "base_uri": "https://localhost:8080/"
        },
        "outputId": "b743bb4d-c643-4078-e954-818ea6f036a2"
      },
      "source": [
        "\n",
        "\n",
        "print('Predicted: ', ' '.join('%5s' % classes[predicted[j]]\n",
        "                              for j in range(5)))"
      ],
      "execution_count": null,
      "outputs": [
        {
          "output_type": "stream",
          "name": "stdout",
          "text": [
            "Predicted:  spoof spoof spoof  real  real\n"
          ]
        }
      ]
    },
    {
      "cell_type": "code",
      "metadata": {
        "id": "qdt80_9odjAn",
        "colab": {
          "base_uri": "https://localhost:8080/"
        },
        "outputId": "f2b5b7de-b213-47c2-ed86-1f36b4739ad8"
      },
      "source": [
        "\n",
        "summary(net, input_size=(3,64,64))"
      ],
      "execution_count": null,
      "outputs": [
        {
          "output_type": "stream",
          "name": "stdout",
          "text": [
            "----------------------------------------------------------------\n",
            "        Layer (type)               Output Shape         Param #\n",
            "================================================================\n",
            "            Conv2d-1           [-1, 18, 60, 60]           1,368\n",
            "              ReLU-2           [-1, 18, 60, 60]               0\n",
            " LocalResponseNorm-3           [-1, 18, 60, 60]               0\n",
            "         MaxPool2d-4           [-1, 18, 30, 30]               0\n",
            "            Conv2d-5           [-1, 18, 26, 26]           8,118\n",
            "              ReLU-6           [-1, 18, 26, 26]               0\n",
            " LocalResponseNorm-7           [-1, 18, 26, 26]               0\n",
            "         MaxPool2d-8           [-1, 18, 13, 13]               0\n",
            "            Conv2d-9           [-1, 18, 10, 10]           5,202\n",
            "             ReLU-10           [-1, 18, 10, 10]               0\n",
            "           Conv2d-11             [-1, 36, 8, 8]           5,868\n",
            "             ReLU-12             [-1, 36, 8, 8]               0\n",
            "           Linear-13                  [-1, 512]       1,180,160\n",
            "             ReLU-14                  [-1, 512]               0\n",
            "           Linear-15                  [-1, 120]          61,560\n",
            "             ReLU-16                  [-1, 120]               0\n",
            "           Linear-17                    [-1, 2]             242\n",
            "================================================================\n",
            "Total params: 1,262,518\n",
            "Trainable params: 1,262,518\n",
            "Non-trainable params: 0\n",
            "----------------------------------------------------------------\n",
            "Input size (MB): 0.05\n",
            "Forward/backward pass size (MB): 1.98\n",
            "Params size (MB): 4.82\n",
            "Estimated Total Size (MB): 6.84\n",
            "----------------------------------------------------------------\n"
          ]
        }
      ]
    },
    {
      "cell_type": "code",
      "metadata": {
        "id": "L4vs4saZeUa9",
        "colab": {
          "base_uri": "https://localhost:8080/"
        },
        "outputId": "c5e6fd1c-b57e-444b-c403-46e086b8b8a7"
      },
      "source": [
        "images[0].shape"
      ],
      "execution_count": null,
      "outputs": [
        {
          "output_type": "execute_result",
          "data": {
            "text/plain": [
              "torch.Size([3, 64, 64])"
            ]
          },
          "metadata": {},
          "execution_count": 26
        }
      ]
    },
    {
      "cell_type": "code",
      "metadata": {
        "id": "N7vu8HjTDPFp"
      },
      "source": [
        ""
      ],
      "execution_count": null,
      "outputs": []
    }
  ]
}